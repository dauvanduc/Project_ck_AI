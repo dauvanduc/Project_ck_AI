{
  "cells": [
    {
      "cell_type": "markdown",
      "metadata": {
        "id": "view-in-github",
        "colab_type": "text"
      },
      "source": [
        "<a href=\"https://colab.research.google.com/github/dauvanduc/Project_ck_AI/blob/main/AI.ipynb\" target=\"_parent\"><img src=\"https://colab.research.google.com/assets/colab-badge.svg\" alt=\"Open In Colab\"/></a>"
      ]
    },
    {
      "cell_type": "code",
      "execution_count": null,
      "metadata": {
        "id": "7bUM7IW4bXLo"
      },
      "outputs": [],
      "source": [
        "from sklearn.model_selection import train_test_split\n",
        "import matplotlib.pyplot as plt\n",
        "import numpy as np\n",
        "import tensorflow as tf\n",
        "from keras.utils import np_utils\n",
        "from keras.models import Sequential\n",
        "from keras.layers import Dense, Activation, Dropout, Conv2D, MaxPooling2D, Flatten\n",
        "from tensorflow.keras.optimizers import Adam,SGD\n",
        "from keras.callbacks import EarlyStopping\n",
        "from tensorflow.keras.utils import to_categorical\n",
        "from tensorflow.keras.models import load_model\n",
        "from tensorflow.keras.utils import load_img, img_to_array\n",
        "from tensorflow.keras.preprocessing.image import ImageDataGenerator"
      ]
    },
    {
      "cell_type": "code",
      "execution_count": null,
      "metadata": {
        "colab": {
          "base_uri": "https://localhost:8080/"
        },
        "id": "ABG0BJTvbfGz",
        "outputId": "5c7ac2b8-bd69-44a1-f3ba-62f9abb6700f"
      },
      "outputs": [
        {
          "output_type": "stream",
          "name": "stdout",
          "text": [
            "Drive already mounted at /content/drive; to attempt to forcibly remount, call drive.mount(\"/content/drive\", force_remount=True).\n"
          ]
        }
      ],
      "source": [
        "\n",
        "\n",
        "from google.colab import drive\n",
        "drive.mount('/content/drive')"
      ]
    },
    {
      "cell_type": "code",
      "execution_count": null,
      "metadata": {
        "id": "NSxx9G-WbfJY"
      },
      "outputs": [],
      "source": [
        "# Tạo ra class ImageDataGenerator để chỉnh sửa ảnh \n",
        "train_datagen=ImageDataGenerator(rescale=1./255, shear_range=0.2, zoom_range=0.2, horizontal_flip=True)"
      ]
    },
    {
      "cell_type": "code",
      "execution_count": null,
      "metadata": {
        "colab": {
          "base_uri": "https://localhost:8080/"
        },
        "id": "rxTXigXAbfL5",
        "outputId": "a5b374c2-e136-408e-b537-a89f2182ca80"
      },
      "outputs": [
        {
          "output_type": "stream",
          "name": "stdout",
          "text": [
            "Found 2364 images belonging to 2 classes.\n"
          ]
        }
      ],
      "source": [
        "training_data=train_datagen.flow_from_directory('/content/drive/MyDrive/Ai/data/train',target_size=(150,150), batch_size=32, class_mode='categorical')"
      ]
    },
    {
      "cell_type": "code",
      "execution_count": null,
      "metadata": {
        "colab": {
          "base_uri": "https://localhost:8080/"
        },
        "id": "1jQO8wPvbfOK",
        "outputId": "379f3c8f-5a19-4648-c97f-de1b4dae35e1"
      },
      "outputs": [
        {
          "output_type": "stream",
          "name": "stdout",
          "text": [
            "Found 624 images belonging to 2 classes.\n"
          ]
        }
      ],
      "source": [
        "validation_data=train_datagen.flow_from_directory('/content/drive/MyDrive/Ai/data/test',target_size=(150,150), batch_size=32, class_mode='categorical')"
      ]
    },
    {
      "cell_type": "code",
      "execution_count": null,
      "metadata": {
        "colab": {
          "base_uri": "https://localhost:8080/"
        },
        "id": "zhrZKHQib8DU",
        "outputId": "52d3709b-a4a9-4517-c21d-7d4c7586b3c5"
      },
      "outputs": [
        {
          "output_type": "execute_result",
          "data": {
            "text/plain": [
              "{'NORMAL': 0, 'PNEUMONIA': 1}"
            ]
          },
          "metadata": {},
          "execution_count": 36
        }
      ],
      "source": [
        "training_data.class_indices"
      ]
    },
    {
      "cell_type": "code",
      "execution_count": null,
      "metadata": {
        "colab": {
          "base_uri": "https://localhost:8080/"
        },
        "id": "HbodxX8ob8GH",
        "outputId": "f5da4528-14ed-4e7d-ab8d-fb8a2389a458"
      },
      "outputs": [
        {
          "output_type": "stream",
          "name": "stdout",
          "text": [
            "Model: \"sequential_3\"\n",
            "_________________________________________________________________\n",
            " Layer (type)                Output Shape              Param #   \n",
            "=================================================================\n",
            " conv2d_24 (Conv2D)          (None, 150, 150, 64)      1792      \n",
            "                                                                 \n",
            " conv2d_25 (Conv2D)          (None, 150, 150, 64)      36928     \n",
            "                                                                 \n",
            " max_pooling2d_12 (MaxPoolin  (None, 75, 75, 64)       0         \n",
            " g2D)                                                            \n",
            "                                                                 \n",
            " conv2d_26 (Conv2D)          (None, 75, 75, 128)       73856     \n",
            "                                                                 \n",
            " conv2d_27 (Conv2D)          (None, 75, 75, 128)       147584    \n",
            "                                                                 \n",
            " max_pooling2d_13 (MaxPoolin  (None, 37, 37, 128)      0         \n",
            " g2D)                                                            \n",
            "                                                                 \n",
            " conv2d_28 (Conv2D)          (None, 37, 37, 256)       295168    \n",
            "                                                                 \n",
            " conv2d_29 (Conv2D)          (None, 37, 37, 256)       590080    \n",
            "                                                                 \n",
            " max_pooling2d_14 (MaxPoolin  (None, 18, 18, 256)      0         \n",
            " g2D)                                                            \n",
            "                                                                 \n",
            " conv2d_30 (Conv2D)          (None, 18, 18, 512)       1180160   \n",
            "                                                                 \n",
            " conv2d_31 (Conv2D)          (None, 18, 18, 512)       2359808   \n",
            "                                                                 \n",
            " max_pooling2d_15 (MaxPoolin  (None, 9, 9, 512)        0         \n",
            " g2D)                                                            \n",
            "                                                                 \n",
            " flatten_3 (Flatten)         (None, 41472)             0         \n",
            "                                                                 \n",
            " dense_9 (Dense)             (None, 512)               21234176  \n",
            "                                                                 \n",
            " dense_10 (Dense)            (None, 512)               262656    \n",
            "                                                                 \n",
            " dropout_3 (Dropout)         (None, 512)               0         \n",
            "                                                                 \n",
            " dense_11 (Dense)            (None, 2)                 1026      \n",
            "                                                                 \n",
            "=================================================================\n",
            "Total params: 26,183,234\n",
            "Trainable params: 26,183,234\n",
            "Non-trainable params: 0\n",
            "_________________________________________________________________\n"
          ]
        }
      ],
      "source": [
        "model=Sequential()\n",
        "model.add(Conv2D(64,(3,3), activation='relu', kernel_initializer='he_uniform', padding='same',input_shape=(150,150,3))) # Tích chập 64 lần với mỗi lần là 3 hàng 3 cột\n",
        "model.add(Conv2D(64,(3,3), activation='relu', kernel_initializer='he_uniform', padding='same'))\n",
        "model.add(MaxPooling2D(2,2))\n",
        "model.add(Conv2D(128,(3,3), activation='relu', kernel_initializer='he_uniform', padding='same')) # Tích chập 128 lần với mỗi lần là 3 hàng 3 cột\n",
        "model.add(Conv2D(128,(3,3), activation='relu', kernel_initializer='he_uniform', padding='same'))\n",
        "model.add(MaxPooling2D(2,2))\n",
        "model.add(Conv2D(256,(3,3), activation='relu', kernel_initializer='he_uniform', padding='same')) # Tích chập 256 lần với mỗi lần là 3 hàng 3 cột\n",
        "model.add(Conv2D(256,(3,3), activation='relu', kernel_initializer='he_uniform', padding='same'))\n",
        "model.add(MaxPooling2D(2,2))\n",
        "model.add(Conv2D(512,(3,3), activation='relu', kernel_initializer='he_uniform', padding='same')) # Tích chập 512 lần với mỗi lần là 3 hàng 3 cột\n",
        "model.add(Conv2D(512,(3,3), activation='relu', kernel_initializer='he_uniform', padding='same'))\n",
        "model.add(MaxPooling2D(2,2))\n",
        "model.add(Flatten())\n",
        "model.add(Dense(512,activation='relu',kernel_initializer='he_uniform'))\n",
        "model.add(Dense(512,activation='relu',kernel_initializer='he_uniform'))\n",
        "model.add(Dropout(0.2))\n",
        "model.add(Dense(2,activation='softmax'))\n",
        "model.summary()"
      ]
    },
    {
      "cell_type": "code",
      "execution_count": null,
      "metadata": {
        "id": "O6s2BSrIcanV"
      },
      "outputs": [],
      "source": [
        "model.compile(optimizer=Adam(),loss='categorical_crossentropy',metrics=['accuracy'])"
      ]
    },
    {
      "cell_type": "code",
      "execution_count": null,
      "metadata": {
        "colab": {
          "base_uri": "https://localhost:8080/"
        },
        "id": "LpoCCiCAb8Iq",
        "outputId": "f6717f46-a982-49cf-a76b-8c6f9b252222"
      },
      "outputs": [
        {
          "output_type": "stream",
          "name": "stdout",
          "text": [
            "Epoch 1/300\n",
            "74/74 [==============================] - 25s 328ms/step - loss: 2.2820 - accuracy: 0.6942 - val_loss: 0.5695 - val_accuracy: 0.7612\n",
            "Epoch 2/300\n",
            "74/74 [==============================] - 24s 322ms/step - loss: 0.3143 - accuracy: 0.8807 - val_loss: 0.4964 - val_accuracy: 0.7708\n",
            "Epoch 3/300\n",
            "74/74 [==============================] - 23s 315ms/step - loss: 0.2586 - accuracy: 0.8883 - val_loss: 0.5343 - val_accuracy: 0.7708\n",
            "Epoch 4/300\n",
            "74/74 [==============================] - 22s 302ms/step - loss: 0.2377 - accuracy: 0.9107 - val_loss: 0.4760 - val_accuracy: 0.7869\n",
            "Epoch 5/300\n",
            "74/74 [==============================] - 22s 301ms/step - loss: 0.2294 - accuracy: 0.9120 - val_loss: 0.6190 - val_accuracy: 0.7885\n",
            "Epoch 6/300\n",
            "74/74 [==============================] - 22s 300ms/step - loss: 0.2358 - accuracy: 0.9040 - val_loss: 0.5791 - val_accuracy: 0.7564\n",
            "Epoch 7/300\n",
            "74/74 [==============================] - 22s 301ms/step - loss: 0.2429 - accuracy: 0.9099 - val_loss: 0.5494 - val_accuracy: 0.8061\n",
            "Epoch 8/300\n",
            "74/74 [==============================] - 22s 299ms/step - loss: 0.2103 - accuracy: 0.9179 - val_loss: 0.5757 - val_accuracy: 0.8237\n",
            "Epoch 9/300\n",
            "74/74 [==============================] - 22s 300ms/step - loss: 0.2032 - accuracy: 0.9226 - val_loss: 0.8685 - val_accuracy: 0.7772\n",
            "Epoch 10/300\n",
            "74/74 [==============================] - 22s 300ms/step - loss: 0.2686 - accuracy: 0.9002 - val_loss: 0.5128 - val_accuracy: 0.7772\n",
            "Epoch 11/300\n",
            "74/74 [==============================] - 22s 300ms/step - loss: 0.2212 - accuracy: 0.9137 - val_loss: 0.5951 - val_accuracy: 0.7821\n",
            "Epoch 12/300\n",
            "74/74 [==============================] - 22s 300ms/step - loss: 0.1941 - accuracy: 0.9226 - val_loss: 0.5909 - val_accuracy: 0.7869\n",
            "Epoch 13/300\n",
            "74/74 [==============================] - 22s 300ms/step - loss: 0.2053 - accuracy: 0.9158 - val_loss: 0.6415 - val_accuracy: 0.8061\n",
            "Epoch 14/300\n",
            "74/74 [==============================] - 22s 303ms/step - loss: 0.1975 - accuracy: 0.9260 - val_loss: 0.5576 - val_accuracy: 0.7692\n",
            "Epoch 15/300\n",
            "74/74 [==============================] - 23s 314ms/step - loss: 0.2009 - accuracy: 0.9272 - val_loss: 0.6533 - val_accuracy: 0.7917\n",
            "Epoch 16/300\n",
            "74/74 [==============================] - 22s 300ms/step - loss: 0.1783 - accuracy: 0.9289 - val_loss: 0.5831 - val_accuracy: 0.8237\n",
            "Epoch 17/300\n",
            "74/74 [==============================] - 22s 299ms/step - loss: 0.1891 - accuracy: 0.9289 - val_loss: 0.5459 - val_accuracy: 0.8077\n",
            "Epoch 18/300\n",
            "74/74 [==============================] - 22s 300ms/step - loss: 0.1864 - accuracy: 0.9272 - val_loss: 0.5749 - val_accuracy: 0.7612\n",
            "Epoch 19/300\n",
            "74/74 [==============================] - 22s 298ms/step - loss: 0.1724 - accuracy: 0.9285 - val_loss: 0.4807 - val_accuracy: 0.8526\n",
            "Epoch 20/300\n",
            "74/74 [==============================] - 22s 300ms/step - loss: 0.1618 - accuracy: 0.9378 - val_loss: 0.7689 - val_accuracy: 0.8157\n",
            "Epoch 21/300\n",
            "74/74 [==============================] - 22s 300ms/step - loss: 0.1808 - accuracy: 0.9332 - val_loss: 0.5634 - val_accuracy: 0.8045\n",
            "Epoch 22/300\n",
            "74/74 [==============================] - 22s 299ms/step - loss: 0.1830 - accuracy: 0.9302 - val_loss: 0.4389 - val_accuracy: 0.8189\n",
            "Epoch 23/300\n",
            "74/74 [==============================] - 22s 300ms/step - loss: 0.1717 - accuracy: 0.9310 - val_loss: 0.9715 - val_accuracy: 0.7788\n",
            "Epoch 24/300\n",
            "74/74 [==============================] - 22s 300ms/step - loss: 0.1611 - accuracy: 0.9336 - val_loss: 0.4771 - val_accuracy: 0.8446\n",
            "Epoch 25/300\n",
            "74/74 [==============================] - 22s 300ms/step - loss: 0.1494 - accuracy: 0.9442 - val_loss: 0.6194 - val_accuracy: 0.8221\n",
            "Epoch 26/300\n",
            "74/74 [==============================] - 22s 299ms/step - loss: 0.1886 - accuracy: 0.9319 - val_loss: 0.6006 - val_accuracy: 0.8077\n",
            "Epoch 27/300\n",
            "74/74 [==============================] - 22s 298ms/step - loss: 0.2331 - accuracy: 0.9074 - val_loss: 0.6260 - val_accuracy: 0.8205\n",
            "Epoch 28/300\n",
            "74/74 [==============================] - 22s 303ms/step - loss: 0.1827 - accuracy: 0.9306 - val_loss: 0.6899 - val_accuracy: 0.7804\n",
            "Epoch 29/300\n",
            "74/74 [==============================] - 23s 313ms/step - loss: 0.1510 - accuracy: 0.9374 - val_loss: 0.5746 - val_accuracy: 0.8381\n",
            "Epoch 30/300\n",
            "74/74 [==============================] - 22s 298ms/step - loss: 0.1531 - accuracy: 0.9437 - val_loss: 0.4414 - val_accuracy: 0.8381\n",
            "Epoch 31/300\n",
            "74/74 [==============================] - 22s 299ms/step - loss: 0.1431 - accuracy: 0.9463 - val_loss: 0.5925 - val_accuracy: 0.7724\n",
            "Epoch 32/300\n",
            "74/74 [==============================] - 22s 299ms/step - loss: 0.1458 - accuracy: 0.9408 - val_loss: 0.4802 - val_accuracy: 0.8413\n",
            "Epoch 33/300\n",
            "74/74 [==============================] - 22s 299ms/step - loss: 0.1442 - accuracy: 0.9416 - val_loss: 0.4227 - val_accuracy: 0.8333\n",
            "Epoch 34/300\n",
            "74/74 [==============================] - 22s 301ms/step - loss: 0.1404 - accuracy: 0.9442 - val_loss: 0.5397 - val_accuracy: 0.8205\n",
            "Epoch 35/300\n",
            "74/74 [==============================] - 22s 300ms/step - loss: 0.1336 - accuracy: 0.9514 - val_loss: 0.3682 - val_accuracy: 0.8542\n",
            "Epoch 36/300\n",
            "74/74 [==============================] - 22s 302ms/step - loss: 0.1419 - accuracy: 0.9442 - val_loss: 0.5644 - val_accuracy: 0.7853\n",
            "Epoch 37/300\n",
            "74/74 [==============================] - 22s 300ms/step - loss: 0.1200 - accuracy: 0.9535 - val_loss: 0.5520 - val_accuracy: 0.8381\n",
            "Epoch 38/300\n",
            "74/74 [==============================] - 22s 300ms/step - loss: 0.1568 - accuracy: 0.9442 - val_loss: 0.5721 - val_accuracy: 0.8157\n",
            "Epoch 39/300\n",
            "74/74 [==============================] - 22s 302ms/step - loss: 0.1249 - accuracy: 0.9514 - val_loss: 0.5727 - val_accuracy: 0.8510\n",
            "Epoch 40/300\n",
            "74/74 [==============================] - 22s 300ms/step - loss: 0.1287 - accuracy: 0.9488 - val_loss: 0.5190 - val_accuracy: 0.8478\n",
            "Epoch 41/300\n",
            "74/74 [==============================] - 23s 304ms/step - loss: 0.1254 - accuracy: 0.9505 - val_loss: 0.4881 - val_accuracy: 0.8269\n",
            "Epoch 42/300\n",
            "74/74 [==============================] - 22s 302ms/step - loss: 0.1272 - accuracy: 0.9514 - val_loss: 0.4939 - val_accuracy: 0.8429\n",
            "Epoch 43/300\n",
            "74/74 [==============================] - 23s 315ms/step - loss: 0.1147 - accuracy: 0.9564 - val_loss: 0.6106 - val_accuracy: 0.8221\n",
            "Epoch 44/300\n",
            "74/74 [==============================] - 22s 300ms/step - loss: 0.1109 - accuracy: 0.9611 - val_loss: 0.5650 - val_accuracy: 0.8590\n",
            "Epoch 45/300\n",
            "74/74 [==============================] - 22s 298ms/step - loss: 0.1448 - accuracy: 0.9471 - val_loss: 0.3971 - val_accuracy: 0.8606\n",
            "Epoch 46/300\n",
            "74/74 [==============================] - 22s 299ms/step - loss: 0.1409 - accuracy: 0.9471 - val_loss: 0.6598 - val_accuracy: 0.8109\n",
            "Epoch 47/300\n",
            "74/74 [==============================] - 22s 300ms/step - loss: 0.1275 - accuracy: 0.9505 - val_loss: 0.7599 - val_accuracy: 0.8061\n",
            "Epoch 48/300\n",
            "74/74 [==============================] - 22s 299ms/step - loss: 0.1149 - accuracy: 0.9594 - val_loss: 0.5165 - val_accuracy: 0.8317\n",
            "Epoch 49/300\n",
            "74/74 [==============================] - 22s 301ms/step - loss: 0.1172 - accuracy: 0.9509 - val_loss: 0.4671 - val_accuracy: 0.8429\n",
            "Epoch 50/300\n",
            "74/74 [==============================] - 22s 300ms/step - loss: 0.1027 - accuracy: 0.9624 - val_loss: 0.6642 - val_accuracy: 0.8301\n",
            "Epoch 51/300\n",
            "74/74 [==============================] - 22s 301ms/step - loss: 0.1155 - accuracy: 0.9598 - val_loss: 0.4988 - val_accuracy: 0.8045\n",
            "Epoch 52/300\n",
            "74/74 [==============================] - 22s 301ms/step - loss: 0.1166 - accuracy: 0.9552 - val_loss: 0.4368 - val_accuracy: 0.8478\n",
            "Epoch 53/300\n",
            "74/74 [==============================] - 22s 302ms/step - loss: 0.1243 - accuracy: 0.9543 - val_loss: 0.6309 - val_accuracy: 0.8253\n",
            "Epoch 54/300\n",
            "74/74 [==============================] - 22s 299ms/step - loss: 0.1045 - accuracy: 0.9602 - val_loss: 0.4677 - val_accuracy: 0.8542\n",
            "Epoch 55/300\n",
            "74/74 [==============================] - 22s 302ms/step - loss: 0.1165 - accuracy: 0.9585 - val_loss: 0.4054 - val_accuracy: 0.8638\n",
            "Epoch 56/300\n",
            "74/74 [==============================] - 22s 300ms/step - loss: 0.1051 - accuracy: 0.9560 - val_loss: 0.4006 - val_accuracy: 0.8606\n",
            "Epoch 57/300\n",
            "74/74 [==============================] - 23s 316ms/step - loss: 0.1025 - accuracy: 0.9607 - val_loss: 0.4162 - val_accuracy: 0.8814\n",
            "Epoch 58/300\n",
            "74/74 [==============================] - 22s 300ms/step - loss: 0.1026 - accuracy: 0.9632 - val_loss: 0.8672 - val_accuracy: 0.8013\n",
            "Epoch 59/300\n",
            "74/74 [==============================] - 22s 299ms/step - loss: 0.1078 - accuracy: 0.9594 - val_loss: 0.4929 - val_accuracy: 0.8750\n",
            "Epoch 60/300\n",
            "74/74 [==============================] - 22s 299ms/step - loss: 0.0982 - accuracy: 0.9624 - val_loss: 0.5640 - val_accuracy: 0.8317\n",
            "Epoch 61/300\n",
            "74/74 [==============================] - 22s 300ms/step - loss: 0.0867 - accuracy: 0.9649 - val_loss: 0.7109 - val_accuracy: 0.8253\n",
            "Epoch 62/300\n",
            "74/74 [==============================] - 22s 299ms/step - loss: 0.0815 - accuracy: 0.9674 - val_loss: 0.8946 - val_accuracy: 0.8157\n",
            "Epoch 63/300\n",
            "74/74 [==============================] - 22s 302ms/step - loss: 0.0947 - accuracy: 0.9624 - val_loss: 0.8324 - val_accuracy: 0.8397\n",
            "Epoch 64/300\n",
            "74/74 [==============================] - 22s 299ms/step - loss: 0.1051 - accuracy: 0.9615 - val_loss: 0.7978 - val_accuracy: 0.8125\n",
            "Epoch 65/300\n",
            "74/74 [==============================] - 22s 299ms/step - loss: 0.1005 - accuracy: 0.9624 - val_loss: 0.3617 - val_accuracy: 0.8702\n",
            "Epoch 66/300\n",
            "74/74 [==============================] - 22s 299ms/step - loss: 0.1045 - accuracy: 0.9594 - val_loss: 0.4025 - val_accuracy: 0.8734\n",
            "Epoch 67/300\n",
            "74/74 [==============================] - 22s 299ms/step - loss: 0.1227 - accuracy: 0.9535 - val_loss: 0.4218 - val_accuracy: 0.8397\n",
            "Epoch 68/300\n",
            "74/74 [==============================] - 22s 302ms/step - loss: 0.0843 - accuracy: 0.9734 - val_loss: 0.4770 - val_accuracy: 0.8622\n",
            "Epoch 69/300\n",
            "74/74 [==============================] - 23s 303ms/step - loss: 0.0781 - accuracy: 0.9734 - val_loss: 0.5769 - val_accuracy: 0.8446\n",
            "Epoch 70/300\n",
            "74/74 [==============================] - 22s 301ms/step - loss: 0.0887 - accuracy: 0.9636 - val_loss: 0.5194 - val_accuracy: 0.8301\n",
            "Epoch 71/300\n",
            "74/74 [==============================] - 23s 314ms/step - loss: 0.0684 - accuracy: 0.9729 - val_loss: 0.6400 - val_accuracy: 0.8574\n",
            "Epoch 72/300\n",
            "74/74 [==============================] - 22s 299ms/step - loss: 0.0917 - accuracy: 0.9611 - val_loss: 0.5419 - val_accuracy: 0.8429\n",
            "Epoch 73/300\n",
            "74/74 [==============================] - 22s 297ms/step - loss: 0.0989 - accuracy: 0.9611 - val_loss: 0.4118 - val_accuracy: 0.8494\n",
            "Epoch 74/300\n",
            "74/74 [==============================] - 22s 300ms/step - loss: 0.0769 - accuracy: 0.9721 - val_loss: 0.7325 - val_accuracy: 0.7965\n",
            "Epoch 75/300\n",
            "74/74 [==============================] - 22s 298ms/step - loss: 0.0989 - accuracy: 0.9598 - val_loss: 0.8547 - val_accuracy: 0.8141\n",
            "Epoch 76/300\n",
            "74/74 [==============================] - 22s 300ms/step - loss: 0.0805 - accuracy: 0.9679 - val_loss: 0.4326 - val_accuracy: 0.8590\n",
            "Epoch 77/300\n",
            "74/74 [==============================] - 22s 299ms/step - loss: 0.0955 - accuracy: 0.9615 - val_loss: 0.5425 - val_accuracy: 0.8574\n",
            "Epoch 78/300\n",
            "74/74 [==============================] - 22s 300ms/step - loss: 0.0932 - accuracy: 0.9666 - val_loss: 0.6075 - val_accuracy: 0.8429\n",
            "Epoch 79/300\n",
            "74/74 [==============================] - 22s 302ms/step - loss: 0.0745 - accuracy: 0.9704 - val_loss: 0.5725 - val_accuracy: 0.8333\n",
            "Epoch 80/300\n",
            "74/74 [==============================] - 22s 303ms/step - loss: 0.0656 - accuracy: 0.9750 - val_loss: 0.6324 - val_accuracy: 0.8429\n",
            "Epoch 81/300\n",
            "74/74 [==============================] - 22s 300ms/step - loss: 0.0725 - accuracy: 0.9750 - val_loss: 0.4904 - val_accuracy: 0.8734\n",
            "Epoch 82/300\n",
            "74/74 [==============================] - 22s 300ms/step - loss: 0.0667 - accuracy: 0.9738 - val_loss: 0.4920 - val_accuracy: 0.8750\n",
            "Epoch 83/300\n",
            "74/74 [==============================] - 23s 304ms/step - loss: 0.0747 - accuracy: 0.9725 - val_loss: 0.4501 - val_accuracy: 0.8814\n",
            "Epoch 84/300\n",
            "74/74 [==============================] - 22s 300ms/step - loss: 0.0672 - accuracy: 0.9729 - val_loss: 0.6788 - val_accuracy: 0.8542\n",
            "Epoch 85/300\n",
            "74/74 [==============================] - 23s 317ms/step - loss: 0.0756 - accuracy: 0.9717 - val_loss: 0.8991 - val_accuracy: 0.7869\n",
            "Epoch 86/300\n",
            "74/74 [==============================] - 22s 301ms/step - loss: 0.0910 - accuracy: 0.9653 - val_loss: 0.7117 - val_accuracy: 0.8157\n",
            "Epoch 87/300\n",
            "74/74 [==============================] - 22s 300ms/step - loss: 0.0728 - accuracy: 0.9691 - val_loss: 0.7524 - val_accuracy: 0.8077\n",
            "Epoch 88/300\n",
            "74/74 [==============================] - 22s 299ms/step - loss: 0.0708 - accuracy: 0.9712 - val_loss: 0.5681 - val_accuracy: 0.8638\n",
            "Epoch 89/300\n",
            "74/74 [==============================] - 22s 299ms/step - loss: 0.0763 - accuracy: 0.9691 - val_loss: 0.5293 - val_accuracy: 0.8542\n",
            "Epoch 90/300\n",
            "74/74 [==============================] - 22s 300ms/step - loss: 0.0643 - accuracy: 0.9767 - val_loss: 0.8106 - val_accuracy: 0.8317\n",
            "Epoch 91/300\n",
            "74/74 [==============================] - 22s 298ms/step - loss: 0.0828 - accuracy: 0.9708 - val_loss: 0.5697 - val_accuracy: 0.8542\n",
            "Epoch 92/300\n",
            "74/74 [==============================] - 22s 298ms/step - loss: 0.0724 - accuracy: 0.9687 - val_loss: 0.5416 - val_accuracy: 0.8301\n",
            "Epoch 93/300\n",
            "74/74 [==============================] - 22s 300ms/step - loss: 0.0695 - accuracy: 0.9721 - val_loss: 0.6776 - val_accuracy: 0.8526\n",
            "Epoch 94/300\n",
            "74/74 [==============================] - 22s 298ms/step - loss: 0.0814 - accuracy: 0.9679 - val_loss: 0.5043 - val_accuracy: 0.8926\n",
            "Epoch 95/300\n",
            "74/74 [==============================] - 22s 300ms/step - loss: 0.0775 - accuracy: 0.9721 - val_loss: 0.4585 - val_accuracy: 0.8622\n"
          ]
        }
      ],
      "source": [
        "history=model.fit(training_data,epochs=300,batch_size=50,verbose=1, validation_data=validation_data, callbacks=[EarlyStopping(monitor='val_loss', patience=30)])"
      ]
    },
    {
      "cell_type": "code",
      "execution_count": null,
      "metadata": {
        "colab": {
          "base_uri": "https://localhost:8080/"
        },
        "id": "sv-uBfg2cu_i",
        "outputId": "c2e4d8b8-57ad-462f-ee8e-9dce497a61ca"
      },
      "outputs": [
        {
          "output_type": "stream",
          "name": "stdout",
          "text": [
            "Test loss 0.4061759412288666\n",
            "Test accuary 0.875\n"
          ]
        }
      ],
      "source": [
        "Score=model.evaluate(validation_data,verbose=0)\n",
        "print('Test loss',Score[0])\n",
        "print('Test accuary', Score[1])"
      ]
    },
    {
      "cell_type": "code",
      "execution_count": null,
      "metadata": {
        "colab": {
          "base_uri": "https://localhost:8080/",
          "height": 312
        },
        "id": "SvJYm5WCAhfs",
        "outputId": "eceb0520-2518-4f1b-ec79-dccbf8444f13"
      },
      "outputs": [
        {
          "output_type": "execute_result",
          "data": {
            "text/plain": [
              "<function matplotlib.pyplot.show>"
            ]
          },
          "metadata": {},
          "execution_count": 44
        },
        {
          "output_type": "display_data",
          "data": {
            "text/plain": [
              "<Figure size 432x288 with 1 Axes>"
            ],
            "image/png": "[encoded data removed]"
          },
          "metadata": {
            "needs_background": "light"
          }
        }
      ],
      "source": [
        "  plt.plot(history.history['accuracy'])\n",
        "  plt.plot(history.history['val_accuracy'])\n",
        "  plt.title('Model Accuracy')\n",
        "  plt.ylabel('Accuracy')\n",
        "  plt.xlabel('Epochs')\n",
        "  plt.legend(['Train','Validation'])\n",
        "  plt.show"
      ]
    },
    {
      "cell_type": "code",
      "execution_count": null,
      "metadata": {
        "id": "msed_iQkAhin"
      },
      "outputs": [],
      "source": [
        "model.save(\"/content/drive/MyDrive/Ai/cuoiki.h5\")"
      ]
    },
    {
      "cell_type": "code",
      "execution_count": null,
      "metadata": {
        "id": "gE7vxSv0rsvI"
      },
      "outputs": [],
      "source": [
        "model_CNN=load_model('/content/drive/MyDrive/Ai/cuoiki.h5')"
      ]
    },
    {
      "cell_type": "code",
      "execution_count": null,
      "metadata": {
        "id": "_kPvM5fVrsyS"
      },
      "outputs": [],
      "source": [
        "# function to convert the JavaScript object into an OpenCV image\n",
        "def js_to_image(js_reply):\n",
        "  \"\"\"\n",
        "  Params:\n",
        "          js_reply: JavaScript object containing image from webcam\n",
        "  Returns:\n",
        "          img: OpenCV BGR image\n",
        "  \"\"\"\n",
        "  # decode base64 image\n",
        "  image_bytes = b64decode(js_reply.split(',')[1])\n",
        "  # convert bytes to numpy array\n",
        "  jpg_as_np = np.frombuffer(image_bytes, dtype=np.uint8)\n",
        "  # decode numpy array into OpenCV BGR image\n",
        "  img = cv2.imdecode(jpg_as_np, flags=1)\n",
        "\n",
        "  return img\n",
        "\n",
        "# function to convert OpenCV Rectangle bounding box image into base64 byte string to be overlayed on video stream\n",
        "def bbox_to_bytes(bbox_array):\n",
        "  \"\"\"\n",
        "  Params:\n",
        "          bbox_array: Numpy array (pixels) containing rectangle to overlay on video stream.\n",
        "  Returns:\n",
        "        bytes: Base64 image byte string\n",
        "  \"\"\"\n",
        "  # convert array into PIL image\n",
        "  bbox_PIL = PIL.Image.fromarray(bbox_array, 'RGBA')\n",
        "  iobuf = io.BytesIO()\n",
        "  # format bbox into png for return\n",
        "  bbox_PIL.save(iobuf, format='png')\n",
        "  # format return string\n",
        "  bbox_bytes = 'data:image/png;base64,{}'.format((str(b64encode(iobuf.getvalue()), 'utf-8')))\n",
        "\n",
        "  return bbox_bytes"
      ]
    },
    {
      "cell_type": "code",
      "execution_count": null,
      "metadata": {
        "id": "bSrz9HZ1sG8M"
      },
      "outputs": [],
      "source": [
        "from IPython.display import display, Javascript, Image\n",
        "# JavaScript to properly create our live video stream using our webcam as input\n",
        "\n",
        "def video_stream():\n",
        "  js = Javascript('''\n",
        "    var video;\n",
        "    var div = null;\n",
        "    var stream;\n",
        "    var captureCanvas;\n",
        "    var imgElement;\n",
        "    var labelElement;\n",
        "    \n",
        "    var pendingResolve = null;\n",
        "    var shutdown = false;\n",
        "    \n",
        "    function removeDom() {\n",
        "       stream.getVideoTracks()[0].stop();\n",
        "       video.remove();\n",
        "       div.remove();\n",
        "       video = null;\n",
        "       div = null;\n",
        "       stream = null;\n",
        "       imgElement = null;\n",
        "       captureCanvas = null;\n",
        "       labelElement = null;\n",
        "    }\n",
        "    \n",
        "    function onAnimationFrame() {\n",
        "      if (!shutdown) {\n",
        "        window.requestAnimationFrame(onAnimationFrame);\n",
        "      }\n",
        "      if (pendingResolve) {\n",
        "        var result = \"\";\n",
        "        if (!shutdown) {\n",
        "          captureCanvas.getContext('2d').drawImage(video, 0, 0, 640, 480);\n",
        "          result = captureCanvas.toDataURL('image/jpeg', 0.8)\n",
        "        }\n",
        "        var lp = pendingResolve;\n",
        "        pendingResolve = null;\n",
        "        lp(result);\n",
        "      }\n",
        "    }\n",
        "    \n",
        "    async function createDom() {\n",
        "      if (div !== null) {\n",
        "        return stream;\n",
        "      }\n",
        "\n",
        "      div = document.createElement('div');\n",
        "      div.style.border = '2px solid black';\n",
        "      div.style.padding = '3px';\n",
        "      div.style.width = '100%';\n",
        "      div.style.maxWidth = '600px';\n",
        "      document.body.appendChild(div);\n",
        "      \n",
        "      const modelOut = document.createElement('div');\n",
        "      modelOut.innerHTML = \"<span>Status:</span>\";\n",
        "      labelElement = document.createElement('span');\n",
        "      labelElement.innerText = 'No data';\n",
        "      labelElement.style.fontWeight = 'bold';\n",
        "      modelOut.appendChild(labelElement);\n",
        "      div.appendChild(modelOut);\n",
        "           \n",
        "      video = document.createElement('video');\n",
        "      video.style.display = 'block';\n",
        "      video.width = div.clientWidth - 6;\n",
        "      video.setAttribute('playsinline', '');\n",
        "      video.onclick = () => { shutdown = true; };\n",
        "      stream = await navigator.mediaDevices.getUserMedia(\n",
        "          {video: { facingMode: \"environment\"}});\n",
        "      div.appendChild(video);\n",
        "\n",
        "      imgElement = document.createElement('img');\n",
        "      imgElement.style.position = 'absolute';\n",
        "      imgElement.style.zIndex = 1;\n",
        "      imgElement.onclick = () => { shutdown = true; };\n",
        "      div.appendChild(imgElement);\n",
        "      \n",
        "      const instruction = document.createElement('div');\n",
        "      instruction.innerHTML = \n",
        "          '<span style=\"color: red; font-weight: bold;\">' +\n",
        "          'Bấm vào video để dừng</span>';\n",
        "      div.appendChild(instruction);\n",
        "      instruction.onclick = () => { shutdown = true; };\n",
        "      \n",
        "      video.srcObject = stream;\n",
        "      await video.play();\n",
        "\n",
        "      captureCanvas = document.createElement('canvas');\n",
        "      captureCanvas.width = 640; //video.videoWidth;\n",
        "      captureCanvas.height = 480; //video.videoHeight;\n",
        "      window.requestAnimationFrame(onAnimationFrame);\n",
        "      \n",
        "      return stream;\n",
        "    }\n",
        "    async function stream_frame(label, imgData) {\n",
        "      if (shutdown) {\n",
        "        removeDom();\n",
        "        shutdown = false;\n",
        "        return '';\n",
        "      }\n",
        "\n",
        "      var preCreate = Date.now();\n",
        "      stream = await createDom();\n",
        "      \n",
        "      var preShow = Date.now();\n",
        "      if (label != \"\") {\n",
        "        labelElement.innerHTML = label;\n",
        "      }\n",
        "            \n",
        "      if (imgData != \"\") {\n",
        "        var videoRect = video.getClientRects()[0];\n",
        "        imgElement.style.top = videoRect.top + \"px\";\n",
        "        imgElement.style.left = videoRect.left + \"px\";\n",
        "        imgElement.style.width = videoRect.width + \"px\";\n",
        "        imgElement.style.height = videoRect.height + \"px\";\n",
        "        imgElement.src = imgData;\n",
        "      }\n",
        "      \n",
        "      var preCapture = Date.now();\n",
        "      var result = await new Promise(function(resolve, reject) {\n",
        "        pendingResolve = resolve;\n",
        "      });\n",
        "      shutdown = false;\n",
        "      \n",
        "      return {'create': preShow - preCreate, \n",
        "              'show': preCapture - preShow, \n",
        "              'capture': Date.now() - preCapture,\n",
        "              'img': result};\n",
        "    }\n",
        "    ''')\n",
        "\n",
        "  display(js)\n",
        "  \n",
        "def video_frame(label, bbox):\n",
        "  data = eval_js('stream_frame(\"{}\", \"{}\")'.format(label, bbox))\n",
        "  return data"
      ]
    },
    {
      "cell_type": "code",
      "execution_count": null,
      "metadata": {
        "colab": {
          "base_uri": "https://localhost:8080/",
          "height": 892
        },
        "id": "PUaE-cM4sG-q",
        "outputId": "eb42673b-2ccf-4719-f386-3e756b1f26c4"
      },
      "outputs": [
        {
          "output_type": "stream",
          "name": "stdout",
          "text": [
            "/content\n"
          ]
        },
        {
          "output_type": "display_data",
          "data": {
            "text/plain": [
              "<IPython.core.display.Javascript object>"
            ],
            "application/javascript": [
              "\n",
              "    var video;\n",
              "    var div = null;\n",
              "    var stream;\n",
              "    var captureCanvas;\n",
              "    var imgElement;\n",
              "    var labelElement;\n",
              "    \n",
              "    var pendingResolve = null;\n",
              "    var shutdown = false;\n",
              "    \n",
              "    function removeDom() {\n",
              "       stream.getVideoTracks()[0].stop();\n",
              "       video.remove();\n",
              "       div.remove();\n",
              "       video = null;\n",
              "       div = null;\n",
              "       stream = null;\n",
              "       imgElement = null;\n",
              "       captureCanvas = null;\n",
              "       labelElement = null;\n",
              "    }\n",
              "    \n",
              "    function onAnimationFrame() {\n",
              "      if (!shutdown) {\n",
              "        window.requestAnimationFrame(onAnimationFrame);\n",
              "      }\n",
              "      if (pendingResolve) {\n",
              "        var result = \"\";\n",
              "        if (!shutdown) {\n",
              "          captureCanvas.getContext('2d').drawImage(video, 0, 0, 640, 480);\n",
              "          result = captureCanvas.toDataURL('image/jpeg', 0.8)\n",
              "        }\n",
              "        var lp = pendingResolve;\n",
              "        pendingResolve = null;\n",
              "        lp(result);\n",
              "      }\n",
              "    }\n",
              "    \n",
              "    async function createDom() {\n",
              "      if (div !== null) {\n",
              "        return stream;\n",
              "      }\n",
              "\n",
              "      div = document.createElement('div');\n",
              "      div.style.border = '2px solid black';\n",
              "      div.style.padding = '3px';\n",
              "      div.style.width = '100%';\n",
              "      div.style.maxWidth = '600px';\n",
              "      document.body.appendChild(div);\n",
              "      \n",
              "      const modelOut = document.createElement('div');\n",
              "      modelOut.innerHTML = \"<span>Status:</span>\";\n",
              "      labelElement = document.createElement('span');\n",
              "      labelElement.innerText = 'No data';\n",
              "      labelElement.style.fontWeight = 'bold';\n",
              "      modelOut.appendChild(labelElement);\n",
              "      div.appendChild(modelOut);\n",
              "           \n",
              "      video = document.createElement('video');\n",
              "      video.style.display = 'block';\n",
              "      video.width = div.clientWidth - 6;\n",
              "      video.setAttribute('playsinline', '');\n",
              "      video.onclick = () => { shutdown = true; };\n",
              "      stream = await navigator.mediaDevices.getUserMedia(\n",
              "          {video: { facingMode: \"environment\"}});\n",
              "      div.appendChild(video);\n",
              "\n",
              "      imgElement = document.createElement('img');\n",
              "      imgElement.style.position = 'absolute';\n",
              "      imgElement.style.zIndex = 1;\n",
              "      imgElement.onclick = () => { shutdown = true; };\n",
              "      div.appendChild(imgElement);\n",
              "      \n",
              "      const instruction = document.createElement('div');\n",
              "      instruction.innerHTML = \n",
              "          '<span style=\"color: red; font-weight: bold;\">' +\n",
              "          'Bấm vào video để dừng</span>';\n",
              "      div.appendChild(instruction);\n",
              "      instruction.onclick = () => { shutdown = true; };\n",
              "      \n",
              "      video.srcObject = stream;\n",
              "      await video.play();\n",
              "\n",
              "      captureCanvas = document.createElement('canvas');\n",
              "      captureCanvas.width = 640; //video.videoWidth;\n",
              "      captureCanvas.height = 480; //video.videoHeight;\n",
              "      window.requestAnimationFrame(onAnimationFrame);\n",
              "      \n",
              "      return stream;\n",
              "    }\n",
              "    async function stream_frame(label, imgData) {\n",
              "      if (shutdown) {\n",
              "        removeDom();\n",
              "        shutdown = false;\n",
              "        return '';\n",
              "      }\n",
              "\n",
              "      var preCreate = Date.now();\n",
              "      stream = await createDom();\n",
              "      \n",
              "      var preShow = Date.now();\n",
              "      if (label != \"\") {\n",
              "        labelElement.innerHTML = label;\n",
              "      }\n",
              "            \n",
              "      if (imgData != \"\") {\n",
              "        var videoRect = video.getClientRects()[0];\n",
              "        imgElement.style.top = videoRect.top + \"px\";\n",
              "        imgElement.style.left = videoRect.left + \"px\";\n",
              "        imgElement.style.width = videoRect.width + \"px\";\n",
              "        imgElement.style.height = videoRect.height + \"px\";\n",
              "        imgElement.src = imgData;\n",
              "      }\n",
              "      \n",
              "      var preCapture = Date.now();\n",
              "      var result = await new Promise(function(resolve, reject) {\n",
              "        pendingResolve = resolve;\n",
              "      });\n",
              "      shutdown = false;\n",
              "      \n",
              "      return {'create': preShow - preCreate, \n",
              "              'show': preCapture - preShow, \n",
              "              'capture': Date.now() - preCapture,\n",
              "              'img': result};\n",
              "    }\n",
              "    "
            ]
          },
          "metadata": {}
        },
        {
          "output_type": "error",
          "ename": "KeyboardInterrupt",
          "evalue": "ignored",
          "traceback": [
            "\u001b[0;31m---------------------------------------------------------------------------\u001b[0m",
            "\u001b[0;31mKeyboardInterrupt\u001b[0m                         Traceback (most recent call last)",
            "\u001b[0;32m<ipython-input-50-aac3b2747aa4>\u001b[0m in \u001b[0;36m<module>\u001b[0;34m()\u001b[0m\n\u001b[1;32m     24\u001b[0m \u001b[0;32mwhile\u001b[0m \u001b[0;32mTrue\u001b[0m\u001b[0;34m:\u001b[0m\u001b[0;34m\u001b[0m\u001b[0;34m\u001b[0m\u001b[0m\n\u001b[1;32m     25\u001b[0m     \u001b[0;31m# Đọc ảnh trả về từ JS\u001b[0m\u001b[0;34m\u001b[0m\u001b[0;34m\u001b[0m\u001b[0;34m\u001b[0m\u001b[0m\n\u001b[0;32m---> 26\u001b[0;31m     \u001b[0mjs_reply\u001b[0m \u001b[0;34m=\u001b[0m \u001b[0mvideo_frame\u001b[0m\u001b[0;34m(\u001b[0m\u001b[0mlabel_html\u001b[0m\u001b[0;34m,\u001b[0m \u001b[0mbbox\u001b[0m\u001b[0;34m)\u001b[0m\u001b[0;34m\u001b[0m\u001b[0;34m\u001b[0m\u001b[0m\n\u001b[0m\u001b[1;32m     27\u001b[0m     \u001b[0;32mif\u001b[0m \u001b[0;32mnot\u001b[0m \u001b[0mjs_reply\u001b[0m\u001b[0;34m:\u001b[0m\u001b[0;34m\u001b[0m\u001b[0;34m\u001b[0m\u001b[0m\n\u001b[1;32m     28\u001b[0m         \u001b[0;32mbreak\u001b[0m\u001b[0;34m\u001b[0m\u001b[0;34m\u001b[0m\u001b[0m\n",
            "\u001b[0;32m<ipython-input-48-3befe6c425b3>\u001b[0m in \u001b[0;36mvideo_frame\u001b[0;34m(label, bbox)\u001b[0m\n\u001b[1;32m    134\u001b[0m \u001b[0;34m\u001b[0m\u001b[0m\n\u001b[1;32m    135\u001b[0m \u001b[0;32mdef\u001b[0m \u001b[0mvideo_frame\u001b[0m\u001b[0;34m(\u001b[0m\u001b[0mlabel\u001b[0m\u001b[0;34m,\u001b[0m \u001b[0mbbox\u001b[0m\u001b[0;34m)\u001b[0m\u001b[0;34m:\u001b[0m\u001b[0;34m\u001b[0m\u001b[0;34m\u001b[0m\u001b[0m\n\u001b[0;32m--> 136\u001b[0;31m   \u001b[0mdata\u001b[0m \u001b[0;34m=\u001b[0m \u001b[0meval_js\u001b[0m\u001b[0;34m(\u001b[0m\u001b[0;34m'stream_frame(\"{}\", \"{}\")'\u001b[0m\u001b[0;34m.\u001b[0m\u001b[0mformat\u001b[0m\u001b[0;34m(\u001b[0m\u001b[0mlabel\u001b[0m\u001b[0;34m,\u001b[0m \u001b[0mbbox\u001b[0m\u001b[0;34m)\u001b[0m\u001b[0;34m)\u001b[0m\u001b[0;34m\u001b[0m\u001b[0;34m\u001b[0m\u001b[0m\n\u001b[0m\u001b[1;32m    137\u001b[0m   \u001b[0;32mreturn\u001b[0m \u001b[0mdata\u001b[0m\u001b[0;34m\u001b[0m\u001b[0;34m\u001b[0m\u001b[0m\n",
            "\u001b[0;32m/usr/local/lib/python3.7/dist-packages/google/colab/output/_js.py\u001b[0m in \u001b[0;36meval_js\u001b[0;34m(script, ignore_result, timeout_sec)\u001b[0m\n\u001b[1;32m     38\u001b[0m   \u001b[0;32mif\u001b[0m \u001b[0mignore_result\u001b[0m\u001b[0;34m:\u001b[0m\u001b[0;34m\u001b[0m\u001b[0;34m\u001b[0m\u001b[0m\n\u001b[1;32m     39\u001b[0m     \u001b[0;32mreturn\u001b[0m\u001b[0;34m\u001b[0m\u001b[0;34m\u001b[0m\u001b[0m\n\u001b[0;32m---> 40\u001b[0;31m   \u001b[0;32mreturn\u001b[0m \u001b[0m_message\u001b[0m\u001b[0;34m.\u001b[0m\u001b[0mread_reply_from_input\u001b[0m\u001b[0;34m(\u001b[0m\u001b[0mrequest_id\u001b[0m\u001b[0;34m,\u001b[0m \u001b[0mtimeout_sec\u001b[0m\u001b[0;34m)\u001b[0m\u001b[0;34m\u001b[0m\u001b[0;34m\u001b[0m\u001b[0m\n\u001b[0m\u001b[1;32m     41\u001b[0m \u001b[0;34m\u001b[0m\u001b[0m\n\u001b[1;32m     42\u001b[0m \u001b[0;34m\u001b[0m\u001b[0m\n",
            "\u001b[0;32m/usr/local/lib/python3.7/dist-packages/google/colab/_message.py\u001b[0m in \u001b[0;36mread_reply_from_input\u001b[0;34m(message_id, timeout_sec)\u001b[0m\n\u001b[1;32m     99\u001b[0m     \u001b[0mreply\u001b[0m \u001b[0;34m=\u001b[0m \u001b[0m_read_next_input_message\u001b[0m\u001b[0;34m(\u001b[0m\u001b[0;34m)\u001b[0m\u001b[0;34m\u001b[0m\u001b[0;34m\u001b[0m\u001b[0m\n\u001b[1;32m    100\u001b[0m     \u001b[0;32mif\u001b[0m \u001b[0mreply\u001b[0m \u001b[0;34m==\u001b[0m \u001b[0m_NOT_READY\u001b[0m \u001b[0;32mor\u001b[0m \u001b[0;32mnot\u001b[0m \u001b[0misinstance\u001b[0m\u001b[0;34m(\u001b[0m\u001b[0mreply\u001b[0m\u001b[0;34m,\u001b[0m \u001b[0mdict\u001b[0m\u001b[0;34m)\u001b[0m\u001b[0;34m:\u001b[0m\u001b[0;34m\u001b[0m\u001b[0;34m\u001b[0m\u001b[0m\n\u001b[0;32m--> 101\u001b[0;31m       \u001b[0mtime\u001b[0m\u001b[0;34m.\u001b[0m\u001b[0msleep\u001b[0m\u001b[0;34m(\u001b[0m\u001b[0;36m0.025\u001b[0m\u001b[0;34m)\u001b[0m\u001b[0;34m\u001b[0m\u001b[0;34m\u001b[0m\u001b[0m\n\u001b[0m\u001b[1;32m    102\u001b[0m       \u001b[0;32mcontinue\u001b[0m\u001b[0;34m\u001b[0m\u001b[0;34m\u001b[0m\u001b[0m\n\u001b[1;32m    103\u001b[0m     if (reply.get('type') == 'colab_reply' and\n",
            "\u001b[0;31mKeyboardInterrupt\u001b[0m: "
          ]
        }
      ],
      "source": [
        "%cd /content\n",
        "from google.colab.output import eval_js\n",
        "from google.colab.patches import cv2_imshow\n",
        "from base64 import b64decode, b64encode\n",
        "import numpy as np\n",
        "import PIL\n",
        "import io\n",
        "import cv2\n",
        "from keras.models import  load_model\n",
        "\n",
        "# start streaming video from webcam\n",
        "video_stream()\n",
        "# label for video\n",
        "label_html = 'Đang lấy hình ảnh...'\n",
        "# initialze bounding box to empty\n",
        "bbox = ''\n",
        "count = 0 \n",
        "\n",
        "# Load model Nhận diện tiền\n",
        "model_file_path = \"/content/drive/MyDrive/Ai/cuoiki.h5\"\n",
        "vggmodel = load_model(model_file_path)\n",
        "\n",
        "classes = ['NORMAL','PNEUMONIA']\n",
        "while True:\n",
        "    # Đọc ảnh trả về từ JS\n",
        "    js_reply = video_frame(label_html, bbox)\n",
        "    if not js_reply:\n",
        "        break\n",
        "\n",
        "    # convert JS response to OpenCV Image\n",
        "    frame = js_to_image(js_reply[\"img\"])\n",
        "\n",
        "    # Resize để đưa vào model\n",
        "    frame_p = cv2.resize(frame, dsize=(150,150))\n",
        "    tensor = np.expand_dims(frame_p, axis=0)\n",
        "\n",
        "    # Feed vào mạng\n",
        "    pred = vggmodel.predict(tensor)\n",
        "    class_id = np.argmax(pred)\n",
        "    class_name = classes[class_id]\n",
        "\n",
        "    # Vẽ lên một ảnh để tẹo nữa overlay\n",
        "\n",
        "    # create transparent overlay for bounding box\n",
        "    bbox_array = np.zeros([480,640,4], dtype=np.uint8)\n",
        "   \n",
        "    bbox_array = cv2.putText(bbox_array, \"{}\".format(class_name),\n",
        "                        (10, 20), cv2.FONT_HERSHEY_SIMPLEX, 0.5,\n",
        "                        (0, 255,0), 2)\n",
        "\n",
        "    bbox_array[:,:,3] = (bbox_array.max(axis = 2) > 0 ).astype(int) * 255\n",
        "    # convert overlay of bbox into bytes\n",
        "    bbox_bytes = bbox_to_bytes(bbox_array)\n",
        "    # update bbox so next frame gets new overlay\n",
        "    bbox = bbox_bytes\n"
      ]
    },
    {
      "cell_type": "code",
      "execution_count": null,
      "metadata": {
        "id": "QBC_oHm5sHOD"
      },
      "outputs": [],
      "source": [
        ""
      ]
    }
  ],
  "metadata": {
    "accelerator": "GPU",
    "colab": {
      "collapsed_sections": [],
      "name": "AI.ipynb",
      "provenance": [],
      "authorship_tag": "ABX9TyMmRUrgOgWykH7MIMEo9Yy3",
      "include_colab_link": true
    },
    "gpuClass": "standard",
    "kernelspec": {
      "display_name": "Python 3",
      "name": "python3"
    },
    "language_info": {
      "name": "python"
    }
  },
  "nbformat": 4,
  "nbformat_minor": 0
}